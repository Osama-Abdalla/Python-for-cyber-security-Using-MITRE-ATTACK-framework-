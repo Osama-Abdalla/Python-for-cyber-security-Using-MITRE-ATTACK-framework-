{
 "cells": [
  {
   "cell_type": "markdown",
   "id": "eb3c7d18-5454-4b14-b15f-f5f88e01d11a",
   "metadata": {},
   "source": [
    "# PYTHON FOR RECONNAISSANSE  \n",
    "# Module 2"
   ]
  },
  {
   "cell_type": "markdown",
   "id": "b9246e57-2e25-4b23-8761-a5f3ae55d1b1",
   "metadata": {},
   "source": [
    "  ### 1.Introduction to scapy"
   ]
  },
  {
   "cell_type": "code",
   "execution_count": 1,
   "id": "472fcc83-676a-4e49-9f24-2c0ba04bdb70",
   "metadata": {},
   "outputs": [
    {
     "name": "stdout",
     "output_type": "stream",
     "text": [
      "Defaulting to user installation because normal site-packages is not writeable\n",
      "Requirement already satisfied: scapy in c:\\users\\lenovo\\appdata\\roaming\\python\\python312\\site-packages (2.5.0)\n"
     ]
    }
   ],
   "source": [
    "# Install \n",
    "! pip install scapy\n",
    "\n"
   ]
  },
  {
   "cell_type": "code",
   "execution_count": 2,
   "id": "650fa47f-fb77-48c7-8a35-10dacca5eeb7",
   "metadata": {},
   "outputs": [],
   "source": [
    "%matplotlib inline\n"
   ]
  },
  {
   "cell_type": "code",
   "execution_count": 3,
   "id": "daac5bd3-43ac-4986-be44-fbcba86ee945",
   "metadata": {},
   "outputs": [],
   "source": [
    "import scapy"
   ]
  },
  {
   "cell_type": "code",
   "execution_count": 4,
   "id": "8812a04b-b944-42e3-9fc7-cd1457ae6b24",
   "metadata": {},
   "outputs": [
    {
     "name": "stderr",
     "output_type": "stream",
     "text": [
      "WARNING: Wireshark is installed, but cannot read manuf !\n"
     ]
    }
   ],
   "source": [
    "# importing scapy.all\n",
    "from scapy.all import *"
   ]
  },
  {
   "cell_type": "code",
   "execution_count": 5,
   "id": "b3f2f408-e4e1-4b9f-8ec2-eeb5839fc0ec",
   "metadata": {},
   "outputs": [
    {
     "name": "stdout",
     "output_type": "stream",
     "text": [
      "<http.cap.pcapng: TCP:41 UDP:519 ICMP:0 Other:2>\n",
      "Ether / IP / TCP 192.168.8.29:49707 > 149.154.167.99:https PA / Raw\n",
      "###[ Ethernet ]### \n",
      "  dst       = 62:37:99:3d:6f:70\n",
      "  src       = 34:02:86:51:33:7b\n",
      "  type      = IPv4\n",
      "###[ IP ]### \n",
      "     version   = 4\n",
      "     ihl       = 5\n",
      "     tos       = 0x0\n",
      "     len       = 367\n",
      "     id        = 31220\n",
      "     flags     = DF\n",
      "     frag      = 0\n",
      "     ttl       = 128\n",
      "     proto     = tcp\n",
      "     chksum    = 0x79d1\n",
      "     src       = 192.168.8.29\n",
      "     dst       = 149.154.167.99\n",
      "     \\options   \\\n",
      "###[ TCP ]### \n",
      "        sport     = 49707\n",
      "        dport     = https\n",
      "        seq       = 81857848\n",
      "        ack       = 1032822494\n",
      "        dataofs   = 5\n",
      "        reserved  = 0\n",
      "        flags     = PA\n",
      "        window    = 512\n",
      "        chksum    = 0xd5eb\n",
      "        urgptr    = 0\n",
      "        options   = []\n",
      "###[ Raw ]### \n",
      "           load      = \"\\x17\\x03\\x03\\x01B\\\\xa7\\x07{\\\\xf8\\x1bĐ\\\\xc3Ӕ\\\\xfeN\\\\xf6۬\\\\xae^\\\\x88D\\\\xf0\\\\x94\\\\x82e\\\\xec\\\\xecq\\\\xa5\\\\x8f\\\\x9f\\x01\\x18j\\\\xe8\\\\xf1N\\\\xec\\\\xc2\\\\xe6\\\\xc7\\x12\\x01\\\\\\x15B\\\\x92p0L\\\\xea\\\\xf3\\\\x91\\\\xc1f\\x00\\\\xbb\\\\xa0\\\\xb8'\\\\xd2\\x03\\\\x8f\\\\xf4qD\\\\xb5S\\\\x9eǇg\\\\xaf\\\\xd2iԁ4\\\\xe1\\\\xa1!\\\\xf3\\\\xf0pg?q\\u07b8\\\\xbf=\\\\xbf\\\\x85\\\\x9b\\\\xc3\\\\xc0\\x02召\\x7f\\\\x96\\\\xfe3\\\\xca\\\\xc5-\\\\xba\\\\xf5\\\\x93֒,\\\\xa8\\\\x86\\\\x9bx\\\\xbd\\\\x90\\\\xd5\\\\xf7\\\\x89K\\\\xb7h\\\\xbd\\\\xe6\\r W\\\\xb8\\\\xb9\\\\x8c8\\\\xa2J\\\\xac)NV ϼj&\\\\xe8'(;\\\\xbcm>{\\\\xf8\\\\xa8\\\\xbe\\\\x8a\\\\xd7Z\\\\xea\\\\x97%ޥ\\\\xb8\\\\xa9$\\\\xc3\\x07\\\\xd3\\\\xeb\\\\xce\\\\xf2\\\\xfd\\\\xa5\\x13\\\\xab?r\\\\xd68Ѝ\\\\xeeݝOR5\\x00\\\\xb7\\\\xed\\\\x8c?\\\\xc5{i\\\\xb6\\x10[t\\\\xdd\\\\xf4t\\\\x8aN\\\\xb7I\\\\xa3\\\\xeb\\\\xa1@\\x02s\\x07\\\\xbe\\\\xdb:\\\\xb6\\x0e\\\\xfe\\\\xbb\\\\x8b֡\\\\xbf\\\\xed\\\\xf0\\\\x8e\\\\xa1)\\x1b\\\\xe1G%\\\\xabj\\\\xe3\\x13e\\\\x8a)\\\\xcbQ\\\\x86\\\\x84\\\\xd0d\\\\xe6v4\\\\xbf\\\\x82\\\\xa2\\x17j\\tu\\\\x88\\\\xa7\\\\x85\\\\xfe\\\\xaa\\x1cC~\\\\xe0\\\\xb8\\x1b\\\\xd1\\\\xc2\\\\xfe\\x8b\\\\xba\\\\xaf{\\rc\\\\xbb\\\\xae\\x7f\\\\x8a\\\\xf2+\\\\xeb\\\\xe6b\\\\x84\\t\\\\xc7\\\\xddu\\x00\\\\xaf7p\\\\x82\\x0eX\\\\xceW\\\\xf0\\\\xbf\\\\xdfG\\\\xa9q\\\\xa0S\\\\x8d@\\\\x8dދ9\\\\xc2\\t\\x03\\\\xfb\\x07\\x1fE\\\\xf5\"\n",
      "\n"
     ]
    }
   ],
   "source": [
    "#read the packet file and store it in variable packet\n",
    "packet = rdpcap(r\"http.cap.pcapng\")\n",
    "print(packet)\n",
    "# Display the first packet\n",
    "p = packet[0]\n",
    "print(p)\n",
    "p.show()"
   ]
  },
  {
   "cell_type": "code",
   "execution_count": 6,
   "id": "f1976d20-8404-4fc0-ae34-6c04eea0bf79",
   "metadata": {},
   "outputs": [
    {
     "name": "stdout",
     "output_type": "stream",
     "text": [
      "###[ Ethernet ]### \n",
      "  dst       = 62:37:99:3d:6f:70\n",
      "  src       = 34:02:86:51:33:7b\n",
      "  type      = IPv4\n",
      "###[ IP ]### \n",
      "     version   = 4\n",
      "     ihl       = 5\n",
      "     tos       = 0x0\n",
      "     len       = 367\n",
      "     id        = 31220\n",
      "     flags     = DF\n",
      "     frag      = 0\n",
      "     ttl       = 128\n",
      "     proto     = tcp\n",
      "     chksum    = 0x79d1\n",
      "     src       = 192.168.8.29\n",
      "     dst       = 149.154.167.99\n",
      "     \\options   \\\n",
      "###[ TCP ]### \n",
      "        sport     = 49707\n",
      "        dport     = 8080\n",
      "        seq       = 81857848\n",
      "        ack       = 1032822494\n",
      "        dataofs   = 5\n",
      "        reserved  = 0\n",
      "        flags     = PA\n",
      "        window    = 512\n",
      "        chksum    = 0xd5eb\n",
      "        urgptr    = 0\n",
      "        options   = []\n",
      "###[ Raw ]### \n",
      "           load      = \"\\x17\\x03\\x03\\x01B\\\\xa7\\x07{\\\\xf8\\x1bĐ\\\\xc3Ӕ\\\\xfeN\\\\xf6۬\\\\xae^\\\\x88D\\\\xf0\\\\x94\\\\x82e\\\\xec\\\\xecq\\\\xa5\\\\x8f\\\\x9f\\x01\\x18j\\\\xe8\\\\xf1N\\\\xec\\\\xc2\\\\xe6\\\\xc7\\x12\\x01\\\\\\x15B\\\\x92p0L\\\\xea\\\\xf3\\\\x91\\\\xc1f\\x00\\\\xbb\\\\xa0\\\\xb8'\\\\xd2\\x03\\\\x8f\\\\xf4qD\\\\xb5S\\\\x9eǇg\\\\xaf\\\\xd2iԁ4\\\\xe1\\\\xa1!\\\\xf3\\\\xf0pg?q\\u07b8\\\\xbf=\\\\xbf\\\\x85\\\\x9b\\\\xc3\\\\xc0\\x02召\\x7f\\\\x96\\\\xfe3\\\\xca\\\\xc5-\\\\xba\\\\xf5\\\\x93֒,\\\\xa8\\\\x86\\\\x9bx\\\\xbd\\\\x90\\\\xd5\\\\xf7\\\\x89K\\\\xb7h\\\\xbd\\\\xe6\\r W\\\\xb8\\\\xb9\\\\x8c8\\\\xa2J\\\\xac)NV ϼj&\\\\xe8'(;\\\\xbcm>{\\\\xf8\\\\xa8\\\\xbe\\\\x8a\\\\xd7Z\\\\xea\\\\x97%ޥ\\\\xb8\\\\xa9$\\\\xc3\\x07\\\\xd3\\\\xeb\\\\xce\\\\xf2\\\\xfd\\\\xa5\\x13\\\\xab?r\\\\xd68Ѝ\\\\xeeݝOR5\\x00\\\\xb7\\\\xed\\\\x8c?\\\\xc5{i\\\\xb6\\x10[t\\\\xdd\\\\xf4t\\\\x8aN\\\\xb7I\\\\xa3\\\\xeb\\\\xa1@\\x02s\\x07\\\\xbe\\\\xdb:\\\\xb6\\x0e\\\\xfe\\\\xbb\\\\x8b֡\\\\xbf\\\\xed\\\\xf0\\\\x8e\\\\xa1)\\x1b\\\\xe1G%\\\\xabj\\\\xe3\\x13e\\\\x8a)\\\\xcbQ\\\\x86\\\\x84\\\\xd0d\\\\xe6v4\\\\xbf\\\\x82\\\\xa2\\x17j\\tu\\\\x88\\\\xa7\\\\x85\\\\xfe\\\\xaa\\x1cC~\\\\xe0\\\\xb8\\x1b\\\\xd1\\\\xc2\\\\xfe\\x8b\\\\xba\\\\xaf{\\rc\\\\xbb\\\\xae\\x7f\\\\x8a\\\\xf2+\\\\xeb\\\\xe6b\\\\x84\\t\\\\xc7\\\\xddu\\x00\\\\xaf7p\\\\x82\\x0eX\\\\xceW\\\\xf0\\\\xbf\\\\xdfG\\\\xa9q\\\\xa0S\\\\x8d@\\\\x8dދ9\\\\xc2\\t\\x03\\\\xfb\\x07\\x1fE\\\\xf5\"\n",
      "\n"
     ]
    }
   ],
   "source": [
    "#changing destination port\n",
    "p[TCP].dport = 8080\n",
    "p.show()"
   ]
  },
  {
   "cell_type": "code",
   "execution_count": 7,
   "id": "566e00f1-8ba4-4676-a4eb-11b8ab552333",
   "metadata": {},
   "outputs": [
    {
     "name": "stdout",
     "output_type": "stream",
     "text": [
      "###[ IP ]### \n",
      "  version   = 4\n",
      "  ihl       = None\n",
      "  tos       = 0x0\n",
      "  len       = None\n",
      "  id        = 1\n",
      "  flags     = \n",
      "  frag      = 0\n",
      "  ttl       = 64\n",
      "  proto     = tcp\n",
      "  chksum    = None\n",
      "  src       = 127.0.0.1\n",
      "  dst       = 127.0.0.1\n",
      "  \\options   \\\n",
      "###[ TCP ]### \n",
      "     sport     = ftp_data\n",
      "     dport     = http\n",
      "     seq       = 0\n",
      "     ack       = 0\n",
      "     dataofs   = None\n",
      "     reserved  = 0\n",
      "     flags     = S\n",
      "     window    = 8192\n",
      "     chksum    = None\n",
      "     urgptr    = 0\n",
      "     options   = ''\n",
      "\n",
      "###[ IP ]### \n",
      "  version   = 4\n",
      "  ihl       = None\n",
      "  tos       = 0x0\n",
      "  len       = None\n",
      "  id        = 1\n",
      "  flags     = \n",
      "  frag      = 0\n",
      "  ttl       = 64\n",
      "  proto     = tcp\n",
      "  chksum    = None\n",
      "  src       = 127.0.0.1\n",
      "  dst       = 127.0.0.1\n",
      "  \\options   \\\n",
      "###[ TCP ]### \n",
      "     sport     = ftp_data\n",
      "     dport     = 35\n",
      "     seq       = 0\n",
      "     ack       = 0\n",
      "     dataofs   = None\n",
      "     reserved  = 0\n",
      "     flags     = S\n",
      "     window    = 8192\n",
      "     chksum    = None\n",
      "     urgptr    = 0\n",
      "     options   = ''\n",
      "\n"
     ]
    }
   ],
   "source": [
    "#creating network packet\n",
    "p = IP()/TCP()\n",
    "p.show()\n",
    "\n",
    "p[TCP].dport= 35\n",
    "p.show()"
   ]
  },
  {
   "cell_type": "code",
   "execution_count": 8,
   "id": "b967f31b-9622-41a6-8fc9-43f8d7b00b60",
   "metadata": {},
   "outputs": [
    {
     "name": "stdout",
     "output_type": "stream",
     "text": [
      "###[ IP ]### \n",
      "  version   = 4\n",
      "  ihl       = None\n",
      "  tos       = 0x0\n",
      "  len       = None\n",
      "  id        = 1\n",
      "  flags     = \n",
      "  frag      = 0\n",
      "  ttl       = 64\n",
      "  proto     = udp\n",
      "  chksum    = None\n",
      "  src       = 192.168.8.34\n",
      "  dst       = 8.8.8.8\n",
      "  \\options   \\\n",
      "###[ UDP ]### \n",
      "     sport     = domain\n",
      "     dport     = domain\n",
      "     len       = None\n",
      "     chksum    = None\n",
      "###[ DNS ]### \n",
      "        id        = 0\n",
      "        qr        = 0\n",
      "        opcode    = QUERY\n",
      "        aa        = 0\n",
      "        tc        = 0\n",
      "        rd        = 1\n",
      "        ra        = 0\n",
      "        z         = 0\n",
      "        ad        = 0\n",
      "        cd        = 0\n",
      "        rcode     = ok\n",
      "        qdcount   = 1\n",
      "        ancount   = 0\n",
      "        nscount   = 0\n",
      "        arcount   = 0\n",
      "        \\qd        \\\n",
      "         |###[ DNS Question Record ]### \n",
      "         |  qname     = 'www.example.com.'\n",
      "         |  qtype     = A\n",
      "         |  qclass    = IN\n",
      "        an        = None\n",
      "        ns        = None\n",
      "        ar        = None\n",
      "\n"
     ]
    }
   ],
   "source": [
    "\n",
    "p = IP(dst=\"8.8.8.8\")/UDP(dport=53)/DNS()\n",
    "p.show()\n"
   ]
  },
  {
   "cell_type": "markdown",
   "id": "94ad9b7c-2e6e-4b39-9864-7d0a2f46736a",
   "metadata": {},
   "source": [
    "### 2.Network Scanning "
   ]
  },
  {
   "cell_type": "code",
   "execution_count": 11,
   "id": "d9b2aeda-c3a9-4848-8a8d-cf2576cb7298",
   "metadata": {},
   "outputs": [
    {
     "ename": "SyntaxError",
     "evalue": "expression cannot contain assignment, perhaps you meant \"==\"? (4156686863.py, line 4)",
     "output_type": "error",
     "traceback": [
      "\u001b[1;36m  Cell \u001b[1;32mIn[11], line 4\u001b[1;36m\u001b[0m\n\u001b[1;33m    ans, unans = sr(IP(dst=host)/TCP=(sport=5555,dport=ports,flags=\"s\"),timeout =2 ,verbose = 0 )\u001b[0m\n\u001b[1;37m                    ^\u001b[0m\n\u001b[1;31mSyntaxError\u001b[0m\u001b[1;31m:\u001b[0m expression cannot contain assignment, perhaps you meant \"==\"?\n"
     ]
    }
   ],
   "source": [
    "\n",
    "from scapy.all import *\n",
    "ports = [25,80,53,443,445,8080,8443]\n",
    "def synscan (host):\n",
    "   ans, unans = sr(IP(dst=host)/TCP=(sport=5555,dport=ports,flags=\"s\"),timeout =2 ,verbose = 0 )\n",
    "   print(\"open ports as %s:\" %host)\n",
    "   for(s,r) in ans :\n",
    "       if s[TCP].dport == r[TCP].sport :\n",
    "          print (s[TCP].dport)\n",
    "\n",
    "\n",
    "\n",
    "\n",
    "\n",
    "host=\"8.8.8.8\"\n",
    "synscan (host)\n",
    "\n",
    "\n",
    "\n",
    "\n",
    "\n",
    "\n",
    "\n",
    "\n",
    "\n",
    "\n",
    "\n",
    "\n",
    "\n",
    "\n",
    "\n",
    "\n",
    "\n",
    "\n",
    "\n",
    "\n",
    "\n",
    "\n",
    "    \n",
    "    "
   ]
  },
  {
   "cell_type": "code",
   "execution_count": 10,
   "id": "df17fcbb-1355-4a82-864d-c0e083e3e381",
   "metadata": {},
   "outputs": [
    {
     "name": "stderr",
     "output_type": "stream",
     "text": [
      "WARNING: Mac address to reach destination not found. Using broadcast.\n",
      "WARNING: Mac address to reach destination not found. Using broadcast.\n",
      "WARNING: more Mac address to reach destination not found. Using broadcast.\n"
     ]
    },
    {
     "name": "stdout",
     "output_type": "stream",
     "text": [
      "Open ports on 8.8.8.8:\n",
      "443\n"
     ]
    }
   ],
   "source": [
    "# the AI code \n",
    "from scapy.all import *\n",
    "\n",
    "ports = [25, 80, 53, 443, 445, 8080, 8443]\n",
    "\n",
    "def synscan(host):\n",
    "    ans, unans = sr(IP(dst=host) / TCP(sport=5555, dport=ports, flags=\"S\"), timeout=2, verbose=0)\n",
    "    print(f\"Open ports on {host}:\")\n",
    "    for s, r in ans:\n",
    "        if s[TCP].dport == r[TCP].sport:\n",
    "            print(s[TCP].dport)\n",
    "\n",
    "host = \"8.8.8.8\"\n",
    "synscan(host)\n"
   ]
  },
  {
   "cell_type": "markdown",
   "id": "2dcfca14-8936-4433-ba76-60c71afd02a1",
   "metadata": {},
   "source": [
    "# 3. Introduction to open technical database\n"
   ]
  },
  {
   "cell_type": "code",
   "execution_count": 15,
   "id": "e5eb2f17-0aa7-4d19-b816-be11156c34dc",
   "metadata": {},
   "outputs": [
    {
     "name": "stdout",
     "output_type": "stream",
     "text": [
      "Defaulting to user installation because normal site-packages is not writeable\n",
      "Collecting dnspython\n",
      "  Downloading dnspython-2.6.1-py3-none-any.whl.metadata (5.8 kB)\n",
      "Downloading dnspython-2.6.1-py3-none-any.whl (307 kB)\n",
      "   ---------------------------------------- 0.0/307.7 kB ? eta -:--:--\n",
      "   ---------------------------------------- 0.0/307.7 kB ? eta -:--:--\n",
      "   - -------------------------------------- 10.2/307.7 kB ? eta -:--:--\n",
      "   - -------------------------------------- 10.2/307.7 kB ? eta -:--:--\n",
      "   --- ----------------------------------- 30.7/307.7 kB 217.9 kB/s eta 0:00:02\n",
      "   --- ----------------------------------- 30.7/307.7 kB 217.9 kB/s eta 0:00:02\n",
      "   ----- --------------------------------- 41.0/307.7 kB 178.6 kB/s eta 0:00:02\n",
      "   --------- ----------------------------- 71.7/307.7 kB 280.5 kB/s eta 0:00:01\n",
      "   ----------- --------------------------- 92.2/307.7 kB 327.7 kB/s eta 0:00:01\n",
      "   ----------- --------------------------- 92.2/307.7 kB 327.7 kB/s eta 0:00:01\n",
      "   ----------------- -------------------- 143.4/307.7 kB 405.9 kB/s eta 0:00:01\n",
      "   ----------------- -------------------- 143.4/307.7 kB 405.9 kB/s eta 0:00:01\n",
      "   --------------------- ---------------- 174.1/307.7 kB 403.5 kB/s eta 0:00:01\n",
      "   ------------------------- ------------ 204.8/307.7 kB 429.5 kB/s eta 0:00:01\n",
      "   ------------------------- ------------ 204.8/307.7 kB 429.5 kB/s eta 0:00:01\n",
      "   ----------------------------- -------- 235.5/307.7 kB 437.4 kB/s eta 0:00:01\n",
      "   ---------------------------------- --- 276.5/307.7 kB 473.7 kB/s eta 0:00:01\n",
      "   ----------------------------------- -- 286.7/307.7 kB 478.3 kB/s eta 0:00:01\n",
      "   -------------------------------------  307.2/307.7 kB 487.6 kB/s eta 0:00:01\n",
      "   -------------------------------------- 307.7/307.7 kB 464.8 kB/s eta 0:00:00\n",
      "Installing collected packages: dnspython\n",
      "Successfully installed dnspython-2.6.1\n"
     ]
    }
   ],
   "source": [
    "!pip install dnspython\n",
    "\n",
    "\n"
   ]
  },
  {
   "cell_type": "code",
   "execution_count": 53,
   "id": "55dc260a-2657-4d2c-a3a1-f0b456a29fe7",
   "metadata": {},
   "outputs": [
    {
     "name": "stdout",
     "output_type": "stream",
     "text": [
      "www.google.com\n",
      "216.239.38.120\n",
      "Domain Names: ['any-in-2678.1e100.net']\n",
      "www4.google.com\n",
      "142.251.37.174\n",
      "Domain Names: ['mrs09s14-in-f14.1e100.net']\n",
      "www5.google.com\n",
      "142.251.37.196\n",
      "Domain Names: ['mrs09s15-in-f4.1e100.net']\n",
      "www6.google.com\n",
      "142.250.201.36\n",
      "Domain Names: ['mrs08s20-in-f4.1e100.net']\n",
      "www9.google.com\n",
      "172.217.18.46\n",
      "Domain Names: ['ham02s12-in-f46.1e100.net', 'ham02s12-in-f14.1e100.net', 'mrs08s01-in-f14.1e100.net']\n",
      "mail.google.com\n",
      "142.250.201.37\n",
      "Domain Names: ['mrs08s20-in-f5.1e100.net']\n",
      "blog.google.com\n",
      "142.250.201.41\n",
      "Domain Names: ['mrs08s20-in-f9.1e100.net']\n",
      "ns.google.com\n",
      "216.239.32.10\n",
      "Domain Names: ['ns1.google.com']\n",
      "ns1.google.com\n",
      "216.239.32.10\n",
      "Domain Names: ['ns1.google.com']\n",
      "ns2.google.com\n",
      "216.239.34.10\n",
      "Domain Names: ['ns2.google.com']\n",
      "ns3.google.com\n",
      "216.239.36.10\n",
      "Domain Names: ['ns3.google.com']\n",
      "ns4.google.com\n",
      "216.239.38.10\n",
      "Domain Names: ['ns4.google.com']\n",
      "smtp.google.com\n",
      "74.125.71.27\n",
      "Domain Names: ['wn-in-f27.1e100.net']\n",
      "64.233.167.27\n",
      "Domain Names: ['wl-in-f27.1e100.net']\n",
      "64.233.167.26\n",
      "Domain Names: ['wl-in-f26.1e100.net']\n",
      "64.233.166.27\n",
      "Domain Names: ['wm-in-f27.1e100.net']\n",
      "64.233.166.26\n",
      "Domain Names: ['wm-in-f26.1e100.net']\n",
      "admin.google.com\n",
      "142.250.201.46\n",
      "Domain Names: ['mrs08s20-in-f14.1e100.net']\n",
      "vpn.google.com\n",
      "64.9.224.70\n",
      "Domain Names: ['vpn.google.com']\n",
      "64.9.224.68\n",
      "Domain Names: ['vpn.google.com']\n",
      "64.9.224.69\n",
      "Domain Names: ['vpn.google.com']\n",
      "dns.google.com\n",
      "8.8.8.8\n",
      "Domain Names: ['dns.google']\n",
      "8.8.4.4\n",
      "Domain Names: ['dns.google']\n"
     ]
    },
    {
     "ename": "NoAnswer",
     "evalue": "The DNS response does not contain an answer to the question: portal.google.com. IN A",
     "output_type": "error",
     "traceback": [
      "\u001b[1;31m---------------------------------------------------------------------------\u001b[0m",
      "\u001b[1;31mNoAnswer\u001b[0m                                  Traceback (most recent call last)",
      "Cell \u001b[1;32mIn[53], line 38\u001b[0m\n\u001b[0;32m     36\u001b[0m \u001b[38;5;28;01mwith\u001b[39;00m \u001b[38;5;28mopen\u001b[39m (\u001b[38;5;124m\"\u001b[39m\u001b[38;5;124msubdomains.txt\u001b[39m\u001b[38;5;124m\"\u001b[39m,\u001b[38;5;124m\"\u001b[39m\u001b[38;5;124mr\u001b[39m\u001b[38;5;124m\"\u001b[39m) \u001b[38;5;28;01mas\u001b[39;00m file :\n\u001b[0;32m     37\u001b[0m     dictionary \u001b[38;5;241m=\u001b[39m file\u001b[38;5;241m.\u001b[39mread ()\u001b[38;5;241m.\u001b[39msplitlines()\n\u001b[1;32m---> 38\u001b[0m SubdomainSearch(domain,dictionary,\u001b[38;5;28;01mTrue\u001b[39;00m)\n",
      "Cell \u001b[1;32mIn[53], line 27\u001b[0m, in \u001b[0;36mSubdomainSearch\u001b[1;34m(domain, dictionary, nums)\u001b[0m\n\u001b[0;32m     25\u001b[0m \u001b[38;5;28;01mfor\u001b[39;00m word \u001b[38;5;129;01min\u001b[39;00m dictionary:\n\u001b[0;32m     26\u001b[0m     subdomain \u001b[38;5;241m=\u001b[39m word\u001b[38;5;241m+\u001b[39m\u001b[38;5;124m\"\u001b[39m\u001b[38;5;124m.\u001b[39m\u001b[38;5;124m\"\u001b[39m\u001b[38;5;241m+\u001b[39mdomain\n\u001b[1;32m---> 27\u001b[0m     DNSRequest(subdomain)\n\u001b[0;32m     28\u001b[0m     \u001b[38;5;28;01mif\u001b[39;00m nums:\n\u001b[0;32m     29\u001b[0m         \u001b[38;5;28;01mfor\u001b[39;00m  i \u001b[38;5;129;01min\u001b[39;00m \u001b[38;5;28mrange\u001b[39m (\u001b[38;5;241m0\u001b[39m,\u001b[38;5;241m10\u001b[39m):\n",
      "Cell \u001b[1;32mIn[53], line 15\u001b[0m, in \u001b[0;36mDNSRequest\u001b[1;34m(domain)\u001b[0m\n\u001b[0;32m     13\u001b[0m \u001b[38;5;28;01mdef\u001b[39;00m \u001b[38;5;21mDNSRequest\u001b[39m (domain):\n\u001b[0;32m     14\u001b[0m     \u001b[38;5;28;01mtry\u001b[39;00m:\n\u001b[1;32m---> 15\u001b[0m         result \u001b[38;5;241m=\u001b[39m dns\u001b[38;5;241m.\u001b[39mresolver\u001b[38;5;241m.\u001b[39mresolve(domain,\u001b[38;5;124m'\u001b[39m\u001b[38;5;124mA\u001b[39m\u001b[38;5;124m'\u001b[39m)\n\u001b[0;32m     16\u001b[0m         \u001b[38;5;28;01mif\u001b[39;00m result:\n\u001b[0;32m     17\u001b[0m             \u001b[38;5;28mprint\u001b[39m  (domain)\n",
      "File \u001b[1;32m~\\AppData\\Roaming\\Python\\Python312\\site-packages\\dns\\resolver.py:1565\u001b[0m, in \u001b[0;36mresolve\u001b[1;34m(qname, rdtype, rdclass, tcp, source, raise_on_no_answer, source_port, lifetime, search)\u001b[0m\n\u001b[0;32m   1545\u001b[0m \u001b[38;5;28;01mdef\u001b[39;00m \u001b[38;5;21mresolve\u001b[39m(\n\u001b[0;32m   1546\u001b[0m     qname: Union[dns\u001b[38;5;241m.\u001b[39mname\u001b[38;5;241m.\u001b[39mName, \u001b[38;5;28mstr\u001b[39m],\n\u001b[0;32m   1547\u001b[0m     rdtype: Union[dns\u001b[38;5;241m.\u001b[39mrdatatype\u001b[38;5;241m.\u001b[39mRdataType, \u001b[38;5;28mstr\u001b[39m] \u001b[38;5;241m=\u001b[39m dns\u001b[38;5;241m.\u001b[39mrdatatype\u001b[38;5;241m.\u001b[39mA,\n\u001b[1;32m   (...)\u001b[0m\n\u001b[0;32m   1554\u001b[0m     search: Optional[\u001b[38;5;28mbool\u001b[39m] \u001b[38;5;241m=\u001b[39m \u001b[38;5;28;01mNone\u001b[39;00m,\n\u001b[0;32m   1555\u001b[0m ) \u001b[38;5;241m-\u001b[39m\u001b[38;5;241m>\u001b[39m Answer:  \u001b[38;5;66;03m# pragma: no cover\u001b[39;00m\n\u001b[0;32m   1556\u001b[0m \u001b[38;5;250m    \u001b[39m\u001b[38;5;124;03m\"\"\"Query nameservers to find the answer to the question.\u001b[39;00m\n\u001b[0;32m   1557\u001b[0m \n\u001b[0;32m   1558\u001b[0m \u001b[38;5;124;03m    This is a convenience function that uses the default resolver\u001b[39;00m\n\u001b[1;32m   (...)\u001b[0m\n\u001b[0;32m   1562\u001b[0m \u001b[38;5;124;03m    parameters.\u001b[39;00m\n\u001b[0;32m   1563\u001b[0m \u001b[38;5;124;03m    \"\"\"\u001b[39;00m\n\u001b[1;32m-> 1565\u001b[0m     \u001b[38;5;28;01mreturn\u001b[39;00m get_default_resolver()\u001b[38;5;241m.\u001b[39mresolve(\n\u001b[0;32m   1566\u001b[0m         qname,\n\u001b[0;32m   1567\u001b[0m         rdtype,\n\u001b[0;32m   1568\u001b[0m         rdclass,\n\u001b[0;32m   1569\u001b[0m         tcp,\n\u001b[0;32m   1570\u001b[0m         source,\n\u001b[0;32m   1571\u001b[0m         raise_on_no_answer,\n\u001b[0;32m   1572\u001b[0m         source_port,\n\u001b[0;32m   1573\u001b[0m         lifetime,\n\u001b[0;32m   1574\u001b[0m         search,\n\u001b[0;32m   1575\u001b[0m     )\n",
      "File \u001b[1;32m~\\AppData\\Roaming\\Python\\Python312\\site-packages\\dns\\resolver.py:1333\u001b[0m, in \u001b[0;36mResolver.resolve\u001b[1;34m(self, qname, rdtype, rdclass, tcp, source, raise_on_no_answer, source_port, lifetime, search)\u001b[0m\n\u001b[0;32m   1331\u001b[0m     (_, done) \u001b[38;5;241m=\u001b[39m resolution\u001b[38;5;241m.\u001b[39mquery_result(\u001b[38;5;28;01mNone\u001b[39;00m, ex)\n\u001b[0;32m   1332\u001b[0m     \u001b[38;5;28;01mcontinue\u001b[39;00m\n\u001b[1;32m-> 1333\u001b[0m (answer, done) \u001b[38;5;241m=\u001b[39m resolution\u001b[38;5;241m.\u001b[39mquery_result(response, \u001b[38;5;28;01mNone\u001b[39;00m)\n\u001b[0;32m   1334\u001b[0m \u001b[38;5;66;03m# Note we need to say \"if answer is not None\" and not just\u001b[39;00m\n\u001b[0;32m   1335\u001b[0m \u001b[38;5;66;03m# \"if answer\" because answer implements __len__, and python\u001b[39;00m\n\u001b[0;32m   1336\u001b[0m \u001b[38;5;66;03m# will call that.  We want to return if we have an answer\u001b[39;00m\n\u001b[0;32m   1337\u001b[0m \u001b[38;5;66;03m# object, including in cases where its length is 0.\u001b[39;00m\n\u001b[0;32m   1338\u001b[0m \u001b[38;5;28;01mif\u001b[39;00m answer \u001b[38;5;129;01mis\u001b[39;00m \u001b[38;5;129;01mnot\u001b[39;00m \u001b[38;5;28;01mNone\u001b[39;00m:\n",
      "File \u001b[1;32m~\\AppData\\Roaming\\Python\\Python312\\site-packages\\dns\\resolver.py:836\u001b[0m, in \u001b[0;36m_Resolution.query_result\u001b[1;34m(self, response, ex)\u001b[0m\n\u001b[0;32m    834\u001b[0m         \u001b[38;5;28mself\u001b[39m\u001b[38;5;241m.\u001b[39mresolver\u001b[38;5;241m.\u001b[39mcache\u001b[38;5;241m.\u001b[39mput((\u001b[38;5;28mself\u001b[39m\u001b[38;5;241m.\u001b[39mqname, \u001b[38;5;28mself\u001b[39m\u001b[38;5;241m.\u001b[39mrdtype, \u001b[38;5;28mself\u001b[39m\u001b[38;5;241m.\u001b[39mrdclass), answer)\n\u001b[0;32m    835\u001b[0m     \u001b[38;5;28;01mif\u001b[39;00m answer\u001b[38;5;241m.\u001b[39mrrset \u001b[38;5;129;01mis\u001b[39;00m \u001b[38;5;28;01mNone\u001b[39;00m \u001b[38;5;129;01mand\u001b[39;00m \u001b[38;5;28mself\u001b[39m\u001b[38;5;241m.\u001b[39mraise_on_no_answer:\n\u001b[1;32m--> 836\u001b[0m         \u001b[38;5;28;01mraise\u001b[39;00m NoAnswer(response\u001b[38;5;241m=\u001b[39manswer\u001b[38;5;241m.\u001b[39mresponse)\n\u001b[0;32m    837\u001b[0m     \u001b[38;5;28;01mreturn\u001b[39;00m (answer, \u001b[38;5;28;01mTrue\u001b[39;00m)\n\u001b[0;32m    838\u001b[0m \u001b[38;5;28;01melif\u001b[39;00m rcode \u001b[38;5;241m==\u001b[39m dns\u001b[38;5;241m.\u001b[39mrcode\u001b[38;5;241m.\u001b[39mNXDOMAIN:\n\u001b[0;32m    839\u001b[0m     \u001b[38;5;66;03m# Further validate the response by making an Answer, even\u001b[39;00m\n\u001b[0;32m    840\u001b[0m     \u001b[38;5;66;03m# if we aren't going to cache it.\u001b[39;00m\n",
      "\u001b[1;31mNoAnswer\u001b[0m: The DNS response does not contain an answer to the question: portal.google.com. IN A"
     ]
    }
   ],
   "source": [
    "# Open Technical Database\n",
    "import dns\n",
    "import dns.resolver\n",
    "import socket\n",
    "\n",
    "def ReverseDNS(ip):\n",
    "    try:\n",
    "        result = socket.gethostbyaddr(ip)\n",
    "    except :\n",
    "        return[]\n",
    "    return [result[0]] + result[1]\n",
    "\n",
    "def DNSRequest (domain):\n",
    "    try:\n",
    "        result = dns.resolver.resolve(domain,'A')\n",
    "        if result:\n",
    "            print  (domain)\n",
    "            for answer in result:\n",
    "                print (answer)\n",
    "                print (\"Domain Names: %s\" % ReverseDNS(answer.to_text()))\n",
    "    except (dns.resolver.NXDOMAIN, dns.exception.Timeout):\n",
    "        return\n",
    "\n",
    "def SubdomainSearch (domain, dictionary, nums=False):\n",
    "    for word in dictionary:\n",
    "        subdomain = word+\".\"+domain\n",
    "        DNSRequest(subdomain)\n",
    "        if nums:\n",
    "            for  i in range (0,10):\n",
    "                s = word+str(i)+\".\"+domain\n",
    "                DNSRequest(s) \n",
    "\n",
    "domain = \"google.com\"\n",
    "d = \"subdomains.txt\"\n",
    "dictionary = []\n",
    "with open (\"subdomains.txt\",\"r\") as file :\n",
    "    dictionary = file.read ().splitlines()\n",
    "SubdomainSearch(domain,dictionary,True)    \n"
   ]
  },
  {
   "cell_type": "code",
   "execution_count": null,
   "id": "59b4172d-a26f-487b-982f-dde9047e8f80",
   "metadata": {},
   "outputs": [],
   "source": []
  }
 ],
 "metadata": {
  "kernelspec": {
   "display_name": "Python 3 (ipykernel)",
   "language": "python",
   "name": "python3"
  },
  "language_info": {
   "codemirror_mode": {
    "name": "ipython",
    "version": 3
   },
   "file_extension": ".py",
   "mimetype": "text/x-python",
   "name": "python",
   "nbconvert_exporter": "python",
   "pygments_lexer": "ipython3",
   "version": "3.12.4"
  }
 },
 "nbformat": 4,
 "nbformat_minor": 5
}
